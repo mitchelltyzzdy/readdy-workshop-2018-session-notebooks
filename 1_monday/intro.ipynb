{
 "cells": [
  {
   "cell_type": "markdown",
   "metadata": {
    "slideshow": {
     "slide_type": "slide"
    }
   },
   "source": [
    "# Particle based reaction diffusion simulations with ReaDDy\n",
    "In this ipython notebook we will go over the principal workflow of ReaDDy, which is:\n",
    "1. Create and configure a `readdy.ReactionDiffusionSystem`, i.e. particle species, potentials, reactions, topologies\n",
    "2. Get a `Simulation` object and configure it, i.e. output file, observables, initial particle positions\n",
    "3. Run the `Simulation`, by choosing a time step size and the number of integration steps\n",
    "4. Analyze results\n",
    "\n",
    "Keep in mind:\n",
    "- When in doubt, refer to the online documentation https://readdy.github.io !\n",
    "- Make use of tab-completion in notebooks !"
   ]
  },
  {
   "cell_type": "code",
   "execution_count": 2,
   "metadata": {
    "slideshow": {
     "slide_type": "fragment"
    }
   },
   "outputs": [
    {
     "name": "stdout",
     "output_type": "stream",
     "text": [
      "v1.0.1-68\n"
     ]
    }
   ],
   "source": [
    "import os\n",
    "import readdy\n",
    "print(readdy.__version__)"
   ]
  },
  {
   "cell_type": "markdown",
   "metadata": {
    "slideshow": {
     "slide_type": "slide"
    }
   },
   "source": [
    "## One diffusing particle"
   ]
  },
  {
   "cell_type": "markdown",
   "metadata": {
    "slideshow": {
     "slide_type": "-"
    }
   },
   "source": [
    "Create and configure a system"
   ]
  },
  {
   "cell_type": "code",
   "execution_count": 3,
   "metadata": {
    "slideshow": {
     "slide_type": "-"
    }
   },
   "outputs": [],
   "source": [
    "system = readdy.ReactionDiffusionSystem(box_size=[10.,10.,10.], unit_system=None)"
   ]
  },
  {
   "cell_type": "code",
   "execution_count": 4,
   "metadata": {
    "slideshow": {
     "slide_type": "-"
    }
   },
   "outputs": [],
   "source": [
    "system.add_species(\"A\", diffusion_constant=1.0)"
   ]
  },
  {
   "cell_type": "markdown",
   "metadata": {
    "slideshow": {
     "slide_type": "-"
    }
   },
   "source": [
    "Get a simulation object and configure output"
   ]
  },
  {
   "cell_type": "code",
   "execution_count": 5,
   "metadata": {},
   "outputs": [],
   "source": [
    "simulation = system.simulation(kernel=\"SingleCPU\")"
   ]
  },
  {
   "cell_type": "code",
   "execution_count": 6,
   "metadata": {},
   "outputs": [],
   "source": [
    "simulation.output_file = \"./oneparticle.h5\"\n",
    "simulation.record_trajectory()"
   ]
  },
  {
   "cell_type": "code",
   "execution_count": 7,
   "metadata": {},
   "outputs": [],
   "source": [
    "simulation.add_particle(\"A\", [0.,0.,0.])"
   ]
  },
  {
   "cell_type": "markdown",
   "metadata": {},
   "source": [
    "Run the simulation"
   ]
  },
  {
   "cell_type": "code",
   "execution_count": 8,
   "metadata": {},
   "outputs": [
    {
     "name": "stdout",
     "output_type": "stream",
     "text": [
      "Configured kernel context with:\n",
      "--------------------------------\n",
      " - kBT = 1\n",
      " - periodic b.c. = (true, true, true)\n",
      " - box size = (10, 10, 10)\n",
      " - particle types:\n",
      "     *  particle type \"A\" with D=1\n",
      "\n"
     ]
    },
    {
     "data": {
      "application/vnd.jupyter.widget-view+json": {
       "model_id": "",
       "version_major": 2,
       "version_minor": 0
      },
      "text/plain": [
       "HBox(children=(HBox(children=(Label(value='Simulation progress'),), layout=Layout(max_width='35%', min_width='…"
      ]
     },
     "metadata": {},
     "output_type": "display_data"
    },
    {
     "name": "stdout",
     "output_type": "stream",
     "text": [
      "\r",
      "[2018-07-16 14:06:14] [info] Simulation completed\n"
     ]
    }
   ],
   "source": [
    "if os.path.exists(simulation.output_file):\n",
    "    os.remove(simulation.output_file)\n",
    "\n",
    "simulation.run(n_steps=1000, timestep=0.1)"
   ]
  },
  {
   "cell_type": "markdown",
   "metadata": {},
   "source": [
    "Look at results. The `!` prefix in a cell forwards the command to the (bash) shell."
   ]
  },
  {
   "cell_type": "code",
   "execution_count": 9,
   "metadata": {},
   "outputs": [
    {
     "name": "stdout",
     "output_type": "stream",
     "text": [
      "oneparticle.h5\r\n"
     ]
    }
   ],
   "source": [
    "!ls | grep oneparticle"
   ]
  },
  {
   "cell_type": "code",
   "execution_count": 10,
   "metadata": {},
   "outputs": [],
   "source": [
    "traj = readdy.Trajectory(filename=\"oneparticle.h5\")"
   ]
  },
  {
   "cell_type": "code",
   "execution_count": 11,
   "metadata": {},
   "outputs": [],
   "source": [
    "traj.convert_to_xyz()"
   ]
  },
  {
   "cell_type": "code",
   "execution_count": 12,
   "metadata": {},
   "outputs": [
    {
     "name": "stdout",
     "output_type": "stream",
     "text": [
      "oneparticle.h5\r\n",
      "oneparticle.h5.xyz\r\n",
      "oneparticle.h5.xyz.tcl\r\n"
     ]
    }
   ],
   "source": [
    "!ls | grep oneparticle"
   ]
  },
  {
   "cell_type": "code",
   "execution_count": 13,
   "metadata": {
    "scrolled": true
   },
   "outputs": [
    {
     "name": "stdout",
     "output_type": "stream",
     "text": [
      "/home/chris/misc/vmd/lib/vmd/vmd_LINUXAMD64: /usr/lib/x86_64-linux-gnu/mesa/libGL.so.1: no version information available (required by /home/chris/misc/vmd/lib/vmd/vmd_LINUXAMD64)\r\n"
     ]
    }
   ],
   "source": [
    "!vmd -e oneparticle.h5.xyz.tcl > /dev/null"
   ]
  },
  {
   "cell_type": "markdown",
   "metadata": {},
   "source": [
    "## Two species"
   ]
  },
  {
   "cell_type": "code",
   "execution_count": 14,
   "metadata": {},
   "outputs": [],
   "source": [
    "system = readdy.ReactionDiffusionSystem([10.,10.,10.], unit_system=None)\n",
    "system.add_species(\"A\", diffusion_constant=1.0)\n",
    "system.add_species(\"B\", diffusion_constant=0.1)"
   ]
  },
  {
   "cell_type": "code",
   "execution_count": 15,
   "metadata": {},
   "outputs": [],
   "source": [
    "simulation = system.simulation(\"SingleCPU\")\n",
    "simulation.output_file = \"twospecies.h5\"\n",
    "simulation.record_trajectory()\n",
    "simulation.add_particle(\"A\", [0.,0.,0.])\n",
    "simulation.add_particle(\"B\", [1.,1.,1.])"
   ]
  },
  {
   "cell_type": "code",
   "execution_count": 16,
   "metadata": {},
   "outputs": [
    {
     "name": "stdout",
     "output_type": "stream",
     "text": [
      "Configured kernel context with:\n",
      "--------------------------------\n",
      " - kBT = 1\n",
      " - periodic b.c. = (true, true, true)\n",
      " - box size = (10, 10, 10)\n",
      " - particle types:\n",
      "     *  particle type \"B\" with D=0.1\n",
      "     *  particle type \"A\" with D=1\n",
      "\n"
     ]
    },
    {
     "data": {
      "application/vnd.jupyter.widget-view+json": {
       "model_id": "",
       "version_major": 2,
       "version_minor": 0
      },
      "text/plain": [
       "HBox(children=(HBox(children=(Label(value='Simulation progress'),), layout=Layout(max_width='35%', min_width='…"
      ]
     },
     "metadata": {},
     "output_type": "display_data"
    },
    {
     "name": "stdout",
     "output_type": "stream",
     "text": [
      "\r",
      "[2018-07-16 14:06:19] [info] Simulation completed\n"
     ]
    }
   ],
   "source": [
    "if os.path.exists(simulation.output_file):\n",
    "    os.remove(simulation.output_file)\n",
    "\n",
    "simulation.run(1000, 0.1)"
   ]
  },
  {
   "cell_type": "code",
   "execution_count": 17,
   "metadata": {},
   "outputs": [
    {
     "name": "stdout",
     "output_type": "stream",
     "text": [
      "twospecies.h5\r\n"
     ]
    }
   ],
   "source": [
    "!ls | grep twospecies"
   ]
  },
  {
   "cell_type": "code",
   "execution_count": 18,
   "metadata": {},
   "outputs": [],
   "source": [
    "traj = readdy.Trajectory(\"twospecies.h5\")\n",
    "traj.convert_to_xyz()"
   ]
  },
  {
   "cell_type": "code",
   "execution_count": 19,
   "metadata": {
    "scrolled": true
   },
   "outputs": [
    {
     "name": "stdout",
     "output_type": "stream",
     "text": [
      "/home/chris/misc/vmd/lib/vmd/vmd_LINUXAMD64: /usr/lib/x86_64-linux-gnu/mesa/libGL.so.1: no version information available (required by /home/chris/misc/vmd/lib/vmd/vmd_LINUXAMD64)\r\n"
     ]
    }
   ],
   "source": [
    "!vmd -e twospecies.h5.xyz.tcl > /dev/null"
   ]
  },
  {
   "cell_type": "markdown",
   "metadata": {},
   "source": [
    "## Reactions, Fusion\n",
    "see https://readdy.github.io/system.html#reactions"
   ]
  },
  {
   "cell_type": "code",
   "execution_count": 20,
   "metadata": {},
   "outputs": [],
   "source": [
    "system = readdy.ReactionDiffusionSystem([10.,10.,10.], unit_system=None)\n",
    "system.add_species(\"A\", diffusion_constant=1.0)\n",
    "system.add_species(\"B\", diffusion_constant=1.0)\n",
    "system.add_species(\"C\", diffusion_constant=0.01)\n",
    "system.reactions.add(\"foo: A +(3.0) B -> C\", rate=0.5)\n",
    "# or equivalently\n",
    "# system.reactions.add_fusion(\"foo\", \"A\", \"B\", \"C\", 0.5, 3.0)"
   ]
  },
  {
   "cell_type": "code",
   "execution_count": 21,
   "metadata": {},
   "outputs": [],
   "source": [
    "simulation = system.simulation(\"SingleCPU\")\n",
    "simulation.output_file = \"reactions.h5\"\n",
    "simulation.record_trajectory()\n",
    "simulation.add_particle(\"A\", [-2.,0.,0.])\n",
    "simulation.add_particle(\"B\", [+2.,0.,0.])"
   ]
  },
  {
   "cell_type": "code",
   "execution_count": 22,
   "metadata": {},
   "outputs": [
    {
     "name": "stdout",
     "output_type": "stream",
     "text": [
      "Configured kernel context with:\n",
      "--------------------------------\n",
      " - kBT = 1\n",
      " - periodic b.c. = (true, true, true)\n",
      " - box size = (10, 10, 10)\n",
      " - particle types:\n",
      "     *  particle type \"C\" with D=0.01\n",
      "     *  particle type \"A\" with D=1\n",
      "     *  particle type \"B\" with D=1\n",
      " - bimolecular reactions:\n",
      "     * Fusion A + B -> C with a rate of 0.5, an educt distance of 3, and weights 0.5 and 0.5\n",
      "\n"
     ]
    },
    {
     "data": {
      "application/vnd.jupyter.widget-view+json": {
       "model_id": "",
       "version_major": 2,
       "version_minor": 0
      },
      "text/plain": [
       "HBox(children=(HBox(children=(Label(value='Simulation progress'),), layout=Layout(max_width='35%', min_width='…"
      ]
     },
     "metadata": {},
     "output_type": "display_data"
    },
    {
     "name": "stdout",
     "output_type": "stream",
     "text": [
      "\r",
      "[2018-07-16 14:06:22] [info] Simulation completed\n"
     ]
    }
   ],
   "source": [
    "if os.path.exists(simulation.output_file):\n",
    "    os.remove(simulation.output_file)\n",
    "\n",
    "simulation.run(1000, 0.01)"
   ]
  },
  {
   "cell_type": "code",
   "execution_count": 23,
   "metadata": {},
   "outputs": [
    {
     "name": "stdout",
     "output_type": "stream",
     "text": [
      "reactions.h5\r\n"
     ]
    }
   ],
   "source": [
    "!ls | grep reactions"
   ]
  },
  {
   "cell_type": "markdown",
   "metadata": {},
   "source": [
    "We can assign radii for the particle species for the visualization. Since the reaction radius is 3, it makes sense to assign A and B a radius of 1.5 each."
   ]
  },
  {
   "cell_type": "code",
   "execution_count": 24,
   "metadata": {},
   "outputs": [],
   "source": [
    "traj = readdy.Trajectory(\"reactions.h5\")\n",
    "traj.convert_to_xyz(particle_radii={\"A\": 1.5, \"B\": 1.5, \"C\": 1.7})"
   ]
  },
  {
   "cell_type": "code",
   "execution_count": 25,
   "metadata": {},
   "outputs": [
    {
     "name": "stdout",
     "output_type": "stream",
     "text": [
      "reactions.h5\r\n",
      "reactions.h5.xyz\r\n",
      "reactions.h5.xyz.tcl\r\n"
     ]
    }
   ],
   "source": [
    "!ls | grep reactions"
   ]
  },
  {
   "cell_type": "code",
   "execution_count": 26,
   "metadata": {
    "scrolled": true
   },
   "outputs": [
    {
     "name": "stdout",
     "output_type": "stream",
     "text": [
      "/home/chris/misc/vmd/lib/vmd/vmd_LINUXAMD64: /usr/lib/x86_64-linux-gnu/mesa/libGL.so.1: no version information available (required by /home/chris/misc/vmd/lib/vmd/vmd_LINUXAMD64)\r\n"
     ]
    }
   ],
   "source": [
    "!vmd -e reactions.h5.xyz.tcl > /dev/null"
   ]
  },
  {
   "cell_type": "markdown",
   "metadata": {},
   "source": [
    "## Reactions, Fusion and Fission"
   ]
  },
  {
   "cell_type": "code",
   "execution_count": 27,
   "metadata": {},
   "outputs": [],
   "source": [
    "system = readdy.ReactionDiffusionSystem([10.,10.,10.], unit_system=None)\n",
    "system.add_species(\"A\", 1.0)\n",
    "system.add_species(\"B\", 1.0)\n",
    "system.add_species(\"C\", 0.01)\n",
    "system.reactions.add(\"foo: A +(3.0) B -> C\", rate=0.5)\n",
    "system.reactions.add(\"bar: C -> A +(3.0) B \", rate=0.5)"
   ]
  },
  {
   "cell_type": "code",
   "execution_count": 28,
   "metadata": {},
   "outputs": [],
   "source": [
    "simulation = system.simulation(\"SingleCPU\")\n",
    "simulation.output_file = \"reactions2.h5\"\n",
    "simulation.record_trajectory()"
   ]
  },
  {
   "cell_type": "markdown",
   "metadata": {},
   "source": [
    "This time we'll add many particles"
   ]
  },
  {
   "cell_type": "code",
   "execution_count": 29,
   "metadata": {},
   "outputs": [],
   "source": [
    "import numpy as np"
   ]
  },
  {
   "cell_type": "code",
   "execution_count": 30,
   "metadata": {},
   "outputs": [],
   "source": [
    "N = 20\n",
    "extent = 10.\n",
    "origin = -5.\n",
    "positions_a = np.random.uniform(size=(N,3)) * extent + origin\n",
    "positions_b = np.random.uniform(size=(N,3)) * extent + origin"
   ]
  },
  {
   "cell_type": "code",
   "execution_count": 31,
   "metadata": {},
   "outputs": [],
   "source": [
    "simulation.add_particles(\"A\", positions_a)\n",
    "simulation.add_particles(\"B\", positions_b)"
   ]
  },
  {
   "cell_type": "code",
   "execution_count": 32,
   "metadata": {},
   "outputs": [
    {
     "name": "stdout",
     "output_type": "stream",
     "text": [
      "Configured kernel context with:\n",
      "--------------------------------\n",
      " - kBT = 1\n",
      " - periodic b.c. = (true, true, true)\n",
      " - box size = (10, 10, 10)\n",
      " - particle types:\n",
      "     *  particle type \"C\" with D=0.01\n",
      "     *  particle type \"A\" with D=1\n",
      "     *  particle type \"B\" with D=1\n",
      " - unimolecular reactions:\n",
      "     * Fission C -> A + B with a rate of 0.5, a product distance of 3, and weights 0.5 and 0.5\n",
      " - bimolecular reactions:\n",
      "     * Fusion A + B -> C with a rate of 0.5, an educt distance of 3, and weights 0.5 and 0.5\n",
      "\n"
     ]
    },
    {
     "data": {
      "application/vnd.jupyter.widget-view+json": {
       "model_id": "",
       "version_major": 2,
       "version_minor": 0
      },
      "text/plain": [
       "HBox(children=(HBox(children=(Label(value='Simulation progress'),), layout=Layout(max_width='35%', min_width='…"
      ]
     },
     "metadata": {},
     "output_type": "display_data"
    },
    {
     "name": "stdout",
     "output_type": "stream",
     "text": [
      "\r",
      "[2018-07-16 14:06:26] [info] Simulation completed\n"
     ]
    }
   ],
   "source": [
    "if os.path.exists(simulation.output_file):\n",
    "    os.remove(simulation.output_file)\n",
    "simulation.run(1000, 0.01)"
   ]
  },
  {
   "cell_type": "code",
   "execution_count": 33,
   "metadata": {},
   "outputs": [],
   "source": [
    "traj = readdy.Trajectory(\"reactions2.h5\")\n",
    "traj.convert_to_xyz(particle_radii={\"A\": 1.5, \"B\": 1.5, \"C\": 1.7})"
   ]
  },
  {
   "cell_type": "code",
   "execution_count": 34,
   "metadata": {},
   "outputs": [
    {
     "name": "stdout",
     "output_type": "stream",
     "text": [
      "/home/chris/misc/vmd/lib/vmd/vmd_LINUXAMD64: /usr/lib/x86_64-linux-gnu/mesa/libGL.so.1: no version information available (required by /home/chris/misc/vmd/lib/vmd/vmd_LINUXAMD64)\r\n"
     ]
    }
   ],
   "source": [
    "!vmd -e reactions2.h5.xyz.tcl > /dev/null"
   ]
  },
  {
   "cell_type": "markdown",
   "metadata": {},
   "source": [
    "## Potentials, box\n",
    "see https://readdy.github.io/system.html#box-potential"
   ]
  },
  {
   "cell_type": "code",
   "execution_count": 35,
   "metadata": {},
   "outputs": [],
   "source": [
    "system = readdy.ReactionDiffusionSystem([10.,10.,10.], unit_system=None)\n",
    "system.add_species(\"A\", 1.)\n",
    "system.add_species(\"B\", 1.)"
   ]
  },
  {
   "cell_type": "code",
   "execution_count": 36,
   "metadata": {},
   "outputs": [],
   "source": [
    "system.potentials.add_box(\"A\", force_constant=20., origin=[-4.,-4.,-4.], extent=[8.,8.,8.])\n",
    "\n",
    "system.potentials.add_box(\"B\", force_constant=30., origin=[-4.,-4.,-4.], extent=[0.1,8.,8.])"
   ]
  },
  {
   "cell_type": "code",
   "execution_count": 37,
   "metadata": {},
   "outputs": [],
   "source": [
    "simulation = system.simulation(\"SingleCPU\")\n",
    "simulation.output_file = \"box.h5\"\n",
    "simulation.record_trajectory()\n",
    "simulation.add_particles(\"A\", np.zeros((40,3)))\n",
    "simulation.add_particles(\"B\", np.zeros((40,3)))"
   ]
  },
  {
   "cell_type": "code",
   "execution_count": 38,
   "metadata": {},
   "outputs": [
    {
     "name": "stdout",
     "output_type": "stream",
     "text": [
      "Configured kernel context with:\n",
      "--------------------------------\n",
      " - kBT = 1\n",
      " - periodic b.c. = (true, true, true)\n",
      " - box size = (10, 10, 10)\n",
      " - particle types:\n",
      "     *  particle type \"B\" with D=1\n",
      "     *  particle type \"A\" with D=1\n",
      " - potentials of order 1:\n",
      "     * for type \"B\"\n",
      "         * Box potential with origin=(-4, -4, -4), extent=(0.1, 8, 8), and force constant k=30\n",
      "     * for type \"A\"\n",
      "         * Box potential with origin=(-4, -4, -4), extent=(8, 8, 8), and force constant k=20\n",
      "\n"
     ]
    },
    {
     "data": {
      "application/vnd.jupyter.widget-view+json": {
       "model_id": "",
       "version_major": 2,
       "version_minor": 0
      },
      "text/plain": [
       "HBox(children=(HBox(children=(Label(value='Simulation progress'),), layout=Layout(max_width='35%', min_width='…"
      ]
     },
     "metadata": {},
     "output_type": "display_data"
    },
    {
     "name": "stdout",
     "output_type": "stream",
     "text": [
      "\r",
      "[2018-07-16 14:06:33] [info] Simulation completed\n"
     ]
    }
   ],
   "source": [
    "if os.path.exists(simulation.output_file):\n",
    "    os.remove(simulation.output_file)\n",
    "simulation.run(10000, 0.001)"
   ]
  },
  {
   "cell_type": "code",
   "execution_count": 39,
   "metadata": {},
   "outputs": [],
   "source": [
    "traj = readdy.Trajectory(\"box.h5\")\n",
    "traj.convert_to_xyz()"
   ]
  },
  {
   "cell_type": "code",
   "execution_count": 40,
   "metadata": {},
   "outputs": [
    {
     "name": "stdout",
     "output_type": "stream",
     "text": [
      "/home/chris/misc/vmd/lib/vmd/vmd_LINUXAMD64: /usr/lib/x86_64-linux-gnu/mesa/libGL.so.1: no version information available (required by /home/chris/misc/vmd/lib/vmd/vmd_LINUXAMD64)\r\n"
     ]
    }
   ],
   "source": [
    "!vmd -e box.h5.xyz.tcl > /dev/null"
   ]
  },
  {
   "cell_type": "markdown",
   "metadata": {},
   "source": [
    "## Potentials, pair-wise repulsion"
   ]
  },
  {
   "cell_type": "code",
   "execution_count": 42,
   "metadata": {},
   "outputs": [
    {
     "name": "stdout",
     "output_type": "stream",
     "text": [
      "Configured kernel context with:\n",
      "--------------------------------\n",
      " - kBT = 1\n",
      " - periodic b.c. = (true, true, true)\n",
      " - box size = (10, 10, 10)\n",
      " - particle types:\n",
      "     *  particle type \"A\" with D=0.1\n",
      " - potentials of order 2:\n",
      "     * for types \"A\" and \"A\"\n",
      "         * Harmonic repulsion with force constant k=100\n",
      "\n"
     ]
    },
    {
     "data": {
      "application/vnd.jupyter.widget-view+json": {
       "model_id": "",
       "version_major": 2,
       "version_minor": 0
      },
      "text/plain": [
       "HBox(children=(HBox(children=(Label(value='Simulation progress'),), layout=Layout(max_width='35%', min_width='…"
      ]
     },
     "metadata": {},
     "output_type": "display_data"
    },
    {
     "name": "stdout",
     "output_type": "stream",
     "text": [
      "\r",
      "[2018-07-16 14:12:38] [info] Simulation completed\n"
     ]
    }
   ],
   "source": [
    "system = readdy.ReactionDiffusionSystem([10.,10.,10.], unit_system=None)\n",
    "system.add_species(\"A\", 0.1)\n",
    "system.potentials.add_harmonic_repulsion(\"A\", \"A\", force_constant=100., interaction_distance=2.)\n",
    "simulation = system.simulation(\"SingleCPU\")\n",
    "simulation.output_file = \"repulsion.h5\"\n",
    "simulation.record_trajectory()\n",
    "simulation.add_particles(\"A\", np.random.uniform(size=(30, 3)) * 10. - 5.)\n",
    "if os.path.exists(simulation.output_file):\n",
    "    os.remove(simulation.output_file)\n",
    "simulation.run(10000, 0.01)\n",
    "traj = readdy.Trajectory(\"repulsion.h5\")\n",
    "traj.convert_to_xyz()"
   ]
  },
  {
   "cell_type": "code",
   "execution_count": 43,
   "metadata": {},
   "outputs": [
    {
     "name": "stdout",
     "output_type": "stream",
     "text": [
      "/home/chris/misc/vmd/lib/vmd/vmd_LINUXAMD64: /usr/lib/x86_64-linux-gnu/mesa/libGL.so.1: no version information available (required by /home/chris/misc/vmd/lib/vmd/vmd_LINUXAMD64)\r\n"
     ]
    }
   ],
   "source": [
    "!vmd -e repulsion.h5.xyz.tcl > /dev/null"
   ]
  },
  {
   "cell_type": "markdown",
   "metadata": {},
   "source": [
    "It is hard to tell from the visualization if particles actually repulse each other. Let's make use of observables."
   ]
  },
  {
   "cell_type": "code",
   "execution_count": 48,
   "metadata": {},
   "outputs": [],
   "source": [
    "system = readdy.ReactionDiffusionSystem([20.,20.,20.], unit_system=None)\n",
    "system.add_species(\"A\", 1.)\n",
    "system.add_species(\"B\", 1.)\n",
    "system.potentials.add_harmonic_repulsion(\"A\", \"A\", force_constant=100., interaction_distance=2.)"
   ]
  },
  {
   "cell_type": "code",
   "execution_count": 49,
   "metadata": {},
   "outputs": [
    {
     "name": "stdout",
     "output_type": "stream",
     "text": [
      "Configured kernel context with:\n",
      "--------------------------------\n",
      " - kBT = 1\n",
      " - periodic b.c. = (true, true, true)\n",
      " - box size = (20, 20, 20)\n",
      " - particle types:\n",
      "     *  particle type \"B\" with D=1\n",
      "     *  particle type \"A\" with D=1\n",
      " - potentials of order 2:\n",
      "     * for types \"A\" and \"A\"\n",
      "         * Harmonic repulsion with force constant k=100\n",
      "\n"
     ]
    },
    {
     "data": {
      "application/vnd.jupyter.widget-view+json": {
       "model_id": "",
       "version_major": 2,
       "version_minor": 0
      },
      "text/plain": [
       "HBox(children=(HBox(children=(Label(value='Simulation progress'),), layout=Layout(max_width='35%', min_width='…"
      ]
     },
     "metadata": {},
     "output_type": "display_data"
    },
    {
     "name": "stdout",
     "output_type": "stream",
     "text": [
      "\r",
      "[2018-07-16 17:23:26] [info] Simulation completed\n"
     ]
    }
   ],
   "source": [
    "simulation = system.simulation(\"SingleCPU\")\n",
    "simulation.output_file = \"rdf.h5\"\n",
    "n_particles = 100\n",
    "# factor of 2 in particle_to_density, because in rdf from A->A every distance is seen twice\n",
    "simulation.observe.rdf(stride=100, bin_borders=np.arange(0.,10.,0.2),\n",
    "                       types_count_from=\"A\", types_count_to=\"A\",\n",
    "                       particle_to_density=2.*n_particles/system.box_volume,\n",
    "                       save={\"name\": \"rdfa\", \"chunk_size\": 1000})\n",
    "simulation.observe.rdf(stride=100, bin_borders=np.arange(0.,10.,0.2),\n",
    "                       types_count_from=\"B\", types_count_to=\"B\",\n",
    "                       particle_to_density=2.*n_particles/system.box_volume,\n",
    "                       save={\"name\": \"rdfb\", \"chunk_size\": 1000})\n",
    "\n",
    "simulation.add_particles(\"A\", np.random.uniform(size=(n_particles, 3)) * 20. - 10.)\n",
    "simulation.add_particles(\"B\", np.random.uniform(size=(n_particles, 3)) * 20. - 10.)\n",
    "if os.path.exists(simulation.output_file):\n",
    "    os.remove(simulation.output_file)\n",
    "simulation.run(100000, 0.01)\n",
    "traj = readdy.Trajectory(\"rdf.h5\")\n"
   ]
  }
 ],
 "metadata": {
  "kernelspec": {
   "display_name": "Python 3",
   "language": "python",
   "name": "python3"
  },
  "language_info": {
   "codemirror_mode": {
    "name": "ipython",
    "version": 3
   },
   "file_extension": ".py",
   "mimetype": "text/x-python",
   "name": "python",
   "nbconvert_exporter": "python",
   "pygments_lexer": "ipython3",
   "version": "3.6.5"
  }
 },
 "nbformat": 4,
 "nbformat_minor": 2
}
