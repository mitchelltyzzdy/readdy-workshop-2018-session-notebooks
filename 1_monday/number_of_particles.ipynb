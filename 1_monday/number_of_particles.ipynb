{
 "cells": [
  {
   "cell_type": "code",
   "execution_count": null,
   "metadata": {},
   "outputs": [],
   "source": [
    "import os\n",
    "import numpy as np\n",
    "import matplotlib.pyplot as plt\n",
    "import readdy"
   ]
  },
  {
   "cell_type": "code",
   "execution_count": null,
   "metadata": {},
   "outputs": [],
   "source": [
    "n_particles = 1000\n",
    "diff = 1.0\n",
    "rate = 0.1\n",
    "\n",
    "name = \"nparticles.h5\"\n",
    "\n",
    "data_dir = \"/home/chris/workspace/data/workshop\"\n",
    "out_file = os.path.join(data_dir, name)\n",
    "n_steps = 10000\n",
    "dt = 1e-2"
   ]
  },
  {
   "cell_type": "code",
   "execution_count": null,
   "metadata": {},
   "outputs": [],
   "source": [
    "system = readdy.ReactionDiffusionSystem(\n",
    "    box_size=[20.,20.,20.],\n",
    "    periodic_boundary_conditions=[True, True, True],\n",
    "    unit_system=None)"
   ]
  },
  {
   "cell_type": "code",
   "execution_count": null,
   "metadata": {},
   "outputs": [],
   "source": [
    "system.add_species(\"A\", diff)\n",
    "system.add_species(\"B\", diff)"
   ]
  },
  {
   "cell_type": "code",
   "execution_count": null,
   "metadata": {},
   "outputs": [],
   "source": [
    "system.reactions.add(\"react: A +(1.) A -> B\", rate=rate)"
   ]
  },
  {
   "cell_type": "code",
   "execution_count": null,
   "metadata": {},
   "outputs": [],
   "source": [
    "simulation = system.simulation(\"SingleCPU\")"
   ]
  },
  {
   "cell_type": "code",
   "execution_count": null,
   "metadata": {},
   "outputs": [],
   "source": [
    "simulation.output_file = out_file\n",
    "simulation.record_trajectory()\n",
    "simulation.observe.number_of_particles(1, [\"A\",\"B\"], callback=lambda x: print(\"A {}, B {}\".format(x[0],x[1])))"
   ]
  },
  {
   "cell_type": "code",
   "execution_count": null,
   "metadata": {},
   "outputs": [],
   "source": [
    "origin = np.array([-10.,-10.,-10.])\n",
    "extent = np.array([20.,20.,20.])\n",
    "init_pos = np.random.uniform(size=(n_particles, 3)) * extent + origin\n",
    "simulation.add_particles(\"A\", init_pos)"
   ]
  },
  {
   "cell_type": "code",
   "execution_count": null,
   "metadata": {},
   "outputs": [],
   "source": [
    "if os.path.exists(simulation.output_file):\n",
    "    os.remove(simulation.output_file)\n",
    "simulation.run(n_steps,dt)"
   ]
  },
  {
   "cell_type": "code",
   "execution_count": null,
   "metadata": {},
   "outputs": [],
   "source": [
    "traj = readdy.Trajectory(out_file)"
   ]
  },
  {
   "cell_type": "code",
   "execution_count": null,
   "metadata": {},
   "outputs": [],
   "source": [
    "times, counts = traj.read_observable_number_of_particles()"
   ]
  },
  {
   "cell_type": "code",
   "execution_count": null,
   "metadata": {},
   "outputs": [],
   "source": [
    "counts.shape"
   ]
  },
  {
   "cell_type": "code",
   "execution_count": null,
   "metadata": {},
   "outputs": [],
   "source": [
    "plt.plot(times, counts[:,0], label=\"A\")\n",
    "plt.plot(times, counts[:,1], label=\"B\")\n",
    "plt.legend()"
   ]
  },
  {
   "cell_type": "code",
   "execution_count": null,
   "metadata": {},
   "outputs": [],
   "source": [
    "import scipy.optimize as so\n",
    "\n",
    "def func(t, k):\n",
    "    return 1./(1./float(n_particles) + k * t)\n",
    "\n",
    "popt, pcov = so.curve_fit(func, times, counts[:,0])\n",
    "\n",
    "f = lambda t: func(t, popt)\n",
    "\n",
    "plt.figure(figsize=(4,3))\n",
    "plt.plot(times/1000., counts[:,0]/1000., label=r\"data $a(t)$\")\n",
    "plt.plot(times/1000., f(times)/1000., label=r\"fit $(a_0^{-1}+kt)^{-1}$\")\n",
    "plt.legend()\n",
    "plt.xlabel(\"Time/a.u.\")\n",
    "plt.ylabel(\"Concentration/a.u.\")\n",
    "plt.title(\"$D=\"+str(diff)+\", \\lambda=\"+str(rate)+\"$\")\n",
    "plt.gcf().tight_layout()\n",
    "plt.savefig(\"fusion_diff_\"+str(diff)+\".pdf\")\n",
    "plt.show()"
   ]
  }
 ],
 "metadata": {
  "kernelspec": {
   "display_name": "Python 3",
   "language": "python",
   "name": "python3"
  },
  "language_info": {
   "codemirror_mode": {
    "name": "ipython",
    "version": 3
   },
   "file_extension": ".py",
   "mimetype": "text/x-python",
   "name": "python",
   "nbconvert_exporter": "python",
   "pygments_lexer": "ipython3",
   "version": "3.6.5"
  }
 },
 "nbformat": 4,
 "nbformat_minor": 2
}
